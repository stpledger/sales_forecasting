{
 "cells": [
  {
   "cell_type": "code",
   "execution_count": null,
   "id": "093bf28d",
   "metadata": {},
   "outputs": [
    {
     "name": "stdout",
     "output_type": "stream",
     "text": [
      "kaggle/input\\holidays_events.csv\n",
      "kaggle/input\\oil.csv\n",
      "kaggle/input\\sample_submission.csv\n",
      "kaggle/input\\stores.csv\n",
      "kaggle/input\\test.csv\n",
      "kaggle/input\\train.csv.zip\n",
      "kaggle/input\\transactions.csv.zip\n"
     ]
    }
   ],
   "source": [
    "import numpy as np\n",
    "import pandas as pd\n",
    "import os\n",
    "\n",
    "# path = 'kaggle/input'\n",
    "path = '/kaggle/input'\n",
    "\n",
    "for dirname, _, filenames in os.walk(path):\n",
    "    for filename in filenames:\n",
    "        print(os.path.join(dirname, filename))"
   ]
  }
 ],
 "metadata": {
  "kernelspec": {
   "display_name": "base",
   "language": "python",
   "name": "python3"
  },
  "language_info": {
   "codemirror_mode": {
    "name": "ipython",
    "version": 3
   },
   "file_extension": ".py",
   "mimetype": "text/x-python",
   "name": "python",
   "nbconvert_exporter": "python",
   "pygments_lexer": "ipython3",
   "version": "3.12.4"
  }
 },
 "nbformat": 4,
 "nbformat_minor": 5
}
